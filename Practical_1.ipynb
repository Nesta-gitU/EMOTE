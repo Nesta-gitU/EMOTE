{
  "cells": [
    {
      "cell_type": "markdown",
      "metadata": {
        "id": "view-in-github",
        "colab_type": "text"
      },
      "source": [
        "<a href=\"https://colab.research.google.com/github/Nesta-gitU/EMOTE/blob/master/Practical_1.ipynb\" target=\"_parent\"><img src=\"https://colab.research.google.com/assets/colab-badge.svg\" alt=\"Open In Colab\"/></a>"
      ]
    },
    {
      "cell_type": "markdown",
      "metadata": {
        "id": "1-aRiOgl4nHg"
      },
      "source": [
        "------\n",
        "**You cannot save any changes you make to this file, so please make sure to save it on your Google Colab drive or download it as a .ipynb file.**\n",
        "\n",
        "------\n",
        "\n"
      ]
    },
    {
      "cell_type": "markdown",
      "metadata": {
        "id": "lIZrAUx57vsM"
      },
      "source": [
        "Practical 1: Sentiment Detection in Movie Reviews\n",
        "========================================\n",
        "\n"
      ]
    },
    {
      "cell_type": "markdown",
      "metadata": {
        "id": "J4kXPMhyngZW"
      },
      "source": [
        "This practical concerns detecting sentiment in movie reviews. This is a typical NLP classification task.\n",
        "In [this file](https://gist.githubusercontent.com/bastings/d47423301cca214e3930061a5a75e177/raw/5113687382919e22b1f09ce71a8fecd1687a5760/reviews.json) (80MB) you will find 1000 positive and 1000 negative **movie reviews**.\n",
        "Each review is a **document** and consists of one or more sentences.\n",
        "\n",
        "To prepare yourself for this practical, you should\n",
        "have a look at a few of these texts to understand the difficulties of\n",
        "the task: how might one go about classifying the texts? You will write\n",
        "code that decides whether a movie review conveys positive or\n",
        "negative sentiment.\n",
        "\n",
        "Please make sure you have read the following paper:\n",
        "\n",
        ">   Bo Pang, Lillian Lee, and Shivakumar Vaithyanathan\n",
        "(2002).\n",
        "[Thumbs up? Sentiment Classification using Machine Learning\n",
        "Techniques](https://dl.acm.org/citation.cfm?id=1118704). EMNLP.\n",
        "\n",
        "Bo Pang et al. introduced the movie review sentiment\n",
        "classification task, and the above paper was one of the first papers on\n",
        "the topic. The first version of your sentiment classifier will do\n",
        "something similar to Pang et al.'s system. If you have questions about it,\n",
        "you should resolve you doubts as soon as possible with your TA.\n"
      ]
    },
    {
      "cell_type": "markdown",
      "metadata": {
        "id": "cb7errgRASzZ"
      },
      "source": [
        "**Advice**\n",
        "\n",
        "Please read through the entire practical and familiarise\n",
        "yourself with all requirements before you start coding or otherwise\n",
        "solving the tasks. Writing clean and concise code can make the difference\n",
        "between solving the assignment in a matter of hours, and taking days to\n",
        "run all experiments.\n",
        "\n",
        "\n",
        "**Implementation**\n",
        "\n",
        "While we inserted code cells to indicate where you should implement your own code, please feel free to add/remove code blocks where you see fit (but make sure that the general structure of the assignment is preserved). Also, please keep in mind that it is always good practice to structure your code properly, e.g., by implementing separate classes and functions that can be reused.\n",
        "\n",
        "## Environment\n",
        "\n",
        "All code should be written in **Python 3**.\n",
        "This is the default in Google Colab."
      ]
    },
    {
      "cell_type": "code",
      "execution_count": null,
      "metadata": {
        "colab": {
          "base_uri": "https://localhost:8080/"
        },
        "id": "SaZnxptMJiD7",
        "outputId": "18c3a760-90b6-4d90-e507-aba57841ae23"
      },
      "outputs": [
        {
          "name": "stdout",
          "output_type": "stream",
          "text": [
            "Python 3.10.12\n"
          ]
        }
      ],
      "source": [
        "!python --version"
      ]
    },
    {
      "cell_type": "markdown",
      "metadata": {
        "id": "BYZyIF7lJnGn"
      },
      "source": [
        "If you want to run code on your own computer, then download this notebook through `File -> Download .ipynb`.\n",
        "The easiest way to\n",
        "install Python is through downloading\n",
        "[Anaconda](https://www.anaconda.com/download).\n",
        "After installation, you can start the notebook by typing `jupyter notebook filename.ipynb`.\n",
        "You can also use an IDE\n",
        "such as [PyCharm](https://www.jetbrains.com/pycharm/download/) to make\n",
        "coding and debugging easier. It is good practice to create a [virtual\n",
        "environment](https://docs.python.org/3/tutorial/venv.html) for this\n",
        "project, so that any Python packages don’t interfere with other\n",
        "projects.\n",
        "\n",
        "\n",
        "**Learning Python 3**\n",
        "\n",
        "If you are new to Python 3, you may want to check out a few of these resources:\n",
        "- https://learnxinyminutes.com/docs/python3/\n",
        "- https://www.learnpython.org/\n",
        "- https://docs.python.org/3/tutorial/"
      ]
    },
    {
      "cell_type": "code",
      "execution_count": 22,
      "metadata": {
        "id": "hok-BFu9lGoK",
        "colab": {
          "base_uri": "https://localhost:8080/"
        },
        "outputId": "64d6e9b8-0dc8-426e-a7b7-bc04b9da24a0"
      },
      "outputs": [
        {
          "output_type": "stream",
          "name": "stdout",
          "text": [
            "scikit-learn version: 1.2.2\n",
            "\u001b[31mERROR: Could not find a version that satisfies the requirement sklearn==1.3.2 (from versions: 0.0, 0.0.post1, 0.0.post2, 0.0.post4, 0.0.post5, 0.0.post7, 0.0.post9, 0.0.post10, 0.0.post11)\u001b[0m\u001b[31m\n",
            "\u001b[0m\u001b[31mERROR: No matching distribution found for sklearn==1.3.2\u001b[0m\u001b[31m\n",
            "\u001b[0m"
          ]
        }
      ],
      "source": [
        "import math\n",
        "import os\n",
        "import sys\n",
        "from subprocess import call\n",
        "from nltk import FreqDist\n",
        "from nltk.util import ngrams\n",
        "from nltk.stem.porter import PorterStemmer\n",
        "import sklearn as sk\n",
        "from google.colab import drive\n",
        "import pickle\n",
        "import json\n",
        "from collections import Counter\n",
        "import requests\n",
        "import matplotlib.pyplot as plt\n",
        "import numpy as np\n",
        "from collections import defaultdict\n",
        "from copy import deepcopy\n",
        "import sklearn\n",
        "from sklearn.svm import LinearSVC\n",
        "\n",
        "#check version of LinearSVC\n",
        "print(\"scikit-learn version:\", sklearn.__version__)\n",
        "#!pip install sklearn==1.3.2"
      ]
    },
    {
      "cell_type": "markdown",
      "metadata": {
        "id": "bXWyGHwE-ieQ"
      },
      "source": [
        "## Loading the data\n",
        "\n",
        "**Download the sentiment lexicon and the movie reviews dataset.**"
      ]
    },
    {
      "cell_type": "code",
      "execution_count": 2,
      "metadata": {
        "colab": {
          "base_uri": "https://localhost:8080/"
        },
        "id": "lm-rakqtlMOT",
        "outputId": "d2115e18-080b-4b82-bb88-283df9361460"
      },
      "outputs": [
        {
          "output_type": "stream",
          "name": "stdout",
          "text": [
            "--2023-11-07 19:05:22--  https://gist.githubusercontent.com/bastings/d6f99dcb6c82231b94b013031356ba05/raw/f80a0281eba8621b122012c89c8b5e2200b39fd6/sent_lexicon\n",
            "Resolving gist.githubusercontent.com (gist.githubusercontent.com)... 185.199.109.133, 185.199.108.133, 185.199.110.133, ...\n",
            "Connecting to gist.githubusercontent.com (gist.githubusercontent.com)|185.199.109.133|:443... connected.\n",
            "HTTP request sent, awaiting response... 200 OK\n",
            "Length: 662577 (647K) [text/plain]\n",
            "Saving to: ‘sent_lexicon’\n",
            "\n",
            "sent_lexicon        100%[===================>] 647.05K  3.89MB/s    in 0.2s    \n",
            "\n",
            "2023-11-07 19:05:22 (3.89 MB/s) - ‘sent_lexicon’ saved [662577/662577]\n",
            "\n",
            "--2023-11-07 19:05:23--  https://gist.githubusercontent.com/bastings/d47423301cca214e3930061a5a75e177/raw/5113687382919e22b1f09ce71a8fecd1687a5760/reviews.json\n",
            "Resolving gist.githubusercontent.com (gist.githubusercontent.com)... 185.199.109.133, 185.199.108.133, 185.199.110.133, ...\n",
            "Connecting to gist.githubusercontent.com (gist.githubusercontent.com)|185.199.109.133|:443... connected.\n",
            "HTTP request sent, awaiting response... 200 OK\n",
            "Length: 83503869 (80M) [text/plain]\n",
            "Saving to: ‘reviews.json’\n",
            "\n",
            "reviews.json        100%[===================>]  79.63M  83.8MB/s    in 1.0s    \n",
            "\n",
            "2023-11-07 19:05:24 (83.8 MB/s) - ‘reviews.json’ saved [83503869/83503869]\n",
            "\n"
          ]
        }
      ],
      "source": [
        "# download sentiment lexicon\n",
        "!wget https://gist.githubusercontent.com/bastings/d6f99dcb6c82231b94b013031356ba05/raw/f80a0281eba8621b122012c89c8b5e2200b39fd6/sent_lexicon\n",
        "# download review data\n",
        "!wget https://gist.githubusercontent.com/bastings/d47423301cca214e3930061a5a75e177/raw/5113687382919e22b1f09ce71a8fecd1687a5760/reviews.json"
      ]
    },
    {
      "cell_type": "markdown",
      "metadata": {
        "id": "AkPwuHp5LSuQ"
      },
      "source": [
        "**Load the movie reviews.**\n",
        "\n",
        "Each word in a review comes with its part-of-speech tag. For documentation on POS-tags, see https://catalog.ldc.upenn.edu/docs/LDC99T42/tagguid1.pdf.\n"
      ]
    },
    {
      "cell_type": "code",
      "execution_count": 46,
      "metadata": {
        "colab": {
          "base_uri": "https://localhost:8080/"
        },
        "id": "careEKj-mRpl",
        "outputId": "0ae7823f-3440-45dd-882c-0cfa80655f23"
      },
      "outputs": [
        {
          "output_type": "stream",
          "name": "stdout",
          "text": [
            "Total number of reviews: 2000 \n",
            "\n",
            "0 NEG 29\n",
            "Two/CD teen/JJ couples/NNS go/VBP to/TO a/DT church/NN party/NN ,/, drink/NN and/CC then/RB drive/NN ./.\n",
            "1 NEG 11\n",
            "Damn/JJ that/IN Y2K/CD bug/NN ./.\n",
            "2 NEG 24\n",
            "It/PRP is/VBZ movies/NNS like/IN these/DT that/WDT make/VBP a/DT jaded/JJ movie/NN viewer/NN thankful/JJ for/IN the/DT invention/NN of/IN the/DT Timex/NNP IndiGlo/NNP watch/NN ./.\n",
            "3 NEG 19\n",
            "QUEST/NN FOR/IN CAMELOT/NNP ``/`` Quest/NNP for/IN Camelot/NNP ''/'' is/VBZ Warner/NNP Bros./NNP '/POS first/JJ feature-length/JJ ,/, fully-animated/JJ attempt/NN to/TO steal/VB clout/NN from/IN Disney/NNP 's/POS cartoon/NN empire/NN ,/, but/CC the/DT mouse/NN has/VBZ no/DT reason/NN to/TO be/VB worried/VBN ./.\n",
            "4 NEG 38\n",
            "Synopsis/NNPS :/: A/DT mentally/RB unstable/JJ man/NN undergoing/VBG psychotherapy/NN saves/VBZ a/DT boy/NN from/IN a/DT potentially/RB fatal/JJ accident/NN and/CC then/RB falls/VBZ in/IN love/NN with/IN the/DT boy/NN 's/POS mother/NN ,/, a/DT fledgling/NN restauranteur/NN ./.\n",
            "\n",
            "Number of word types: 47743\n",
            "Number of word tokens: 1512359\n",
            "['JJ', '$', '-RRB-', 'VBN', 'RBS', 'WRB', 'PRP$', 'TO', 'WP$', 'FW', 'NNS', 'VBZ', 'RB', 'IN', 'CC', 'JJR', '.', 'VB', 'RBR', 'MD', 'WDT', 'VBP', 'WP', ':', 'EX', 'VBG', '-LRB-', ',', 'RP', '``', 'UH', 'POS', \"''\", 'NNP', 'DT', 'LS', 'PDT', 'NNPS', 'SYM', 'VBD', 'NN', 'JJS', 'CD', '#', 'PRP']\n",
            "\n",
            "Most common tokens:\n",
            "         , :    77842\n",
            "       the :    75948\n",
            "         . :    59027\n",
            "         a :    37583\n",
            "       and :    35235\n",
            "        of :    33864\n",
            "        to :    31601\n",
            "        is :    25972\n",
            "        in :    21563\n",
            "        's :    18043\n",
            "        it :    15904\n",
            "      that :    15820\n",
            "     -rrb- :    11768\n",
            "     -lrb- :    11670\n",
            "        as :    11312\n",
            "      with :    10739\n",
            "       for :     9816\n",
            "       his :     9542\n",
            "      this :     9497\n",
            "      film :     9404\n"
          ]
        }
      ],
      "source": [
        "# file structure:\n",
        "# [\n",
        "#  {\"cv\": integer, \"sentiment\": str, \"content\": list}\n",
        "#  {\"cv\": integer, \"sentiment\": str, \"content\": list}\n",
        "#   ..\n",
        "# ]\n",
        "# where `content` is a list of sentences,\n",
        "# with a sentence being a list of (token, pos_tag) pairs.\n",
        "\n",
        "\n",
        "with open(\"reviews.json\", mode=\"r\", encoding=\"utf-8\") as f:\n",
        "  reviews = json.load(f)\n",
        "\n",
        "print(\"Total number of reviews:\", len(reviews), '\\n')\n",
        "\n",
        "def print_sentence_with_pos(s):\n",
        "  print(\" \".join(\"%s/%s\" % (token, pos_tag) for token, pos_tag in s))\n",
        "\n",
        "for i, r in enumerate(reviews):\n",
        "  print(r[\"cv\"], r[\"sentiment\"], len(r[\"content\"]))  # cv, sentiment, num sents\n",
        "  print_sentence_with_pos(r[\"content\"][0])\n",
        "  if i == 4:\n",
        "    break\n",
        "\n",
        "c = Counter()\n",
        "pos_tags = []\n",
        "for review in reviews:\n",
        "  for sentence in review[\"content\"]:\n",
        "    for token, pos_tag in sentence:\n",
        "      c[token.lower()] += 1\n",
        "      pos_tags.append(pos_tag)\n",
        "\n",
        "print(\"\\nNumber of word types:\", len(c))\n",
        "print(\"Number of word tokens:\", sum(c.values()))\n",
        "\n",
        "print(list(set(pos_tags)))\n",
        "print(\"\\nMost common tokens:\")\n",
        "for token, count in c.most_common(20):\n",
        "  print(\"%10s : %8d\" % (token, count))\n"
      ]
    },
    {
      "cell_type": "markdown",
      "metadata": {
        "id": "E6PWaEoh8B34"
      },
      "source": [
        "#(1) Lexicon-based approach (3.5pts)\n",
        "\n"
      ]
    },
    {
      "cell_type": "markdown",
      "metadata": {
        "id": "JsTSMb6ma4E8"
      },
      "source": [
        "A traditional approach to classify documents according to their sentiment is the lexicon-based approach. To implement this approach, you need a **sentiment lexicon**, i.e., a list of words annotated with a sentiment label (e.g., positive and negative, or a score from 0 to 5).\n",
        "\n",
        "In this practical, you will use the sentiment\n",
        "lexicon released by Wilson et al. (2005).\n",
        "\n",
        "> Theresa Wilson, Janyce Wiebe, and Paul Hoffmann\n",
        "(2005). [Recognizing Contextual Polarity in Phrase-Level Sentiment\n",
        "Analysis](http://www.aclweb.org/anthology/H/H05/H05-1044.pdf). HLT-EMNLP.\n",
        "\n",
        "Pay attention to all the information available in the sentiment lexicon. The field *word1* contains the lemma, *priorpolarity* contains the sentiment label (positive, negative, both, or neutral), *type* gives you the magnitude of the word's sentiment (strong or weak), and *pos1* gives you the part-of-speech tag of the lemma. Some lemmas can have multiple part-of-speech tags and thus multiple entries in the lexicon. The path of the lexicon file is `\"sent_lexicon\"`.\n"
      ]
    },
    {
      "cell_type": "code",
      "execution_count": 4,
      "metadata": {
        "colab": {
          "base_uri": "https://localhost:8080/"
        },
        "id": "Ogq0Eq2hQglh",
        "outputId": "68b72be7-802d-47ef-caf9-b7fb660efbba"
      },
      "outputs": [
        {
          "output_type": "stream",
          "name": "stdout",
          "text": [
            "type=weaksubj len=1 word1=abandoned pos1=adj stemmed1=n priorpolarity=negative\n",
            "type=weaksubj len=1 word1=abandonment pos1=noun stemmed1=n priorpolarity=negative\n",
            "type=weaksubj len=1 word1=abandon pos1=verb stemmed1=y priorpolarity=negative\n",
            "type=strongsubj len=1 word1=abase pos1=verb stemmed1=y priorpolarity=negative\n",
            "type=strongsubj len=1 word1=abasement pos1=anypos stemmed1=y priorpolarity=negative\n"
          ]
        }
      ],
      "source": [
        "with open(\"sent_lexicon\", mode=\"r\", encoding=\"utf-8\") as f:\n",
        "  line_cnt = 0\n",
        "  for line in f:\n",
        "    print(line.strip())\n",
        "    line_cnt += 1\n",
        "    if line_cnt > 4:\n",
        "      break"
      ]
    },
    {
      "cell_type": "markdown",
      "metadata": {
        "id": "Mml4nOtIUBhn"
      },
      "source": [
        "Lexica such as this can be used to solve\n",
        "the classification task without using Machine Learning. For example, one might look up every word $w_1 ... w_n$ in a document, and compute a **binary score**\n",
        "$S_{binary}$ by counting how many words have a positive or a\n",
        "negative label in the sentiment lexicon $SLex$.\n",
        "\n",
        "$$S_{binary}(w_1 w_2 ... w_n) = \\sum_{i = 1}^{n}\\text{sign}(SLex\\big[w_i\\big])$$\n",
        "\n",
        "where $\\text{sign}(SLex\\big[w_i\\big])$ refers to the polarity of $w_i$.\n",
        "\n",
        "**Threshold.** On average, there are more positive than negative words per review (~7.13 more positive than negative per review) to take this bias into account you should use a threshold of **8** (roughly the bias itself) to make it harder to classify as positive.\n",
        "\n",
        "$$\n",
        "\\text{classify}(S_{binary}(w_1 w_2 ... w_n)) = \\bigg\\{\\begin{array}{ll}\n",
        "        \\text{positive} & \\text{if } S_{binary}(w_1w_2...w_n) > threshold\\\\\n",
        "        \\text{negative} & \\text{otherwise}\n",
        "        \\end{array}\n",
        "$$\n"
      ]
    },
    {
      "cell_type": "markdown",
      "metadata": {
        "id": "tOFnMvbeeZrc"
      },
      "source": [
        "#### (Q1.1) Implement this approach and report its classification accuracy. (1 pt)"
      ]
    },
    {
      "cell_type": "code",
      "execution_count": null,
      "metadata": {
        "id": "ED2aTEYutW1-"
      },
      "outputs": [],
      "source": [
        "def read_lexicon(path='sent_lexicon'):\n",
        "    \"\"\" Reads the lexicon form a file into a dictionary \"\"\"\n",
        "    lexicon = {} #defaultdict(dict)\n",
        "    list_to_delete = []\n",
        "    with open(\"sent_lexicon\", mode=\"r\", encoding=\"utf-8\") as file:\n",
        "        for line in file:\n",
        "            type_, len_, word, pos1, stemmed1, priorpolarity = line.strip().split()\n",
        "            if word.split('=')[-1] in lexicon:\n",
        "                if lexicon[word.split('=')[-1]]['priorpolarity'] != priorpolarity.split('=')[-1]:\n",
        "                    list_to_delete.append(word.split('=')[-1])\n",
        "#                     continue\n",
        "\n",
        "            lexicon[word.split('=')[-1]] = {\n",
        "                'type': type_.split('=')[-1],\n",
        "                'len': len_.split('=')[-1],\n",
        "                'stemmed1': stemmed1.split('=')[-1],\n",
        "                'priorpolarity': priorpolarity.split('=')[-1],\n",
        "                'word': word.split('=')[-1],\n",
        "                'pos': pos1.split('=')[-1]\n",
        "            }\n",
        "    # Delete all conflicting words\n",
        "#     for w in set(list_to_delete):\n",
        "#         del lexicon[w]\n",
        "    return dict(lexicon)\n",
        "\n",
        "\n",
        "def binary_score(document, lexicon, use_magnitude):\n",
        "    score = 0\n",
        "    for sentence in document['content']:\n",
        "        for word, pos in sentence:\n",
        "            # TODO: extract lemmas\n",
        "            lexicon_entry = lexicon.get(word.lower(), None)\n",
        "            if lexicon_entry is None:\n",
        "                continue\n",
        "            if use_magnitude:\n",
        "                if lexicon_entry['priorpolarity'] == 'positive' and lexicon_entry['type'] == 'strongsubj':\n",
        "                    score += 2\n",
        "                elif lexicon_entry['priorpolarity'] == 'positive' and lexicon_entry['type'] == 'weaksubj':\n",
        "                    score += 1\n",
        "                elif lexicon_entry['priorpolarity'] == 'negative' and lexicon_entry['type'] == 'strongsubj':\n",
        "                    score -= 2\n",
        "                elif lexicon_entry['priorpolarity'] == 'negative' and lexicon_entry['type'] == 'weaksubj':\n",
        "                    score -= 1\n",
        "            else:\n",
        "                if lexicon_entry['priorpolarity'] == 'positive':\n",
        "                    score += 1\n",
        "                elif lexicon_entry['priorpolarity'] == 'negative':\n",
        "                    score -= 1\n",
        "    return score\n",
        "\n",
        "\n",
        "def lexicon_classification(document, lexicon, threshold, use_magnitude):\n",
        "    score = binary_score(document, lexicon, use_magnitude)\n",
        "    return 1 if score > threshold else 0\n",
        "\n",
        "\n",
        "def classify_documents_with_lexicon(documents, lexicon, threshold=8, use_magnitude=False):\n",
        "    predictions = []\n",
        "    for document in documents:\n",
        "        predictions.append(lexicon_classification(document, lexicon, threshold, use_magnitude))\n",
        "    return predictions"
      ]
    },
    {
      "cell_type": "code",
      "execution_count": null,
      "metadata": {
        "id": "GllwoYBGIbfN"
      },
      "outputs": [],
      "source": [
        "# Read lexicon\n",
        "lexicon = read_lexicon()\n",
        "\n",
        "# Extract true labels\n",
        "labels = [1 if doc['sentiment'] == 'POS' else 0 for doc in reviews]\n",
        "\n",
        "# Make predictions with a lexicon\n",
        "predictions = classify_documents_with_lexicon(reviews, lexicon, threshold=8)\n"
      ]
    },
    {
      "cell_type": "code",
      "execution_count": null,
      "metadata": {
        "colab": {
          "base_uri": "https://localhost:8080/",
          "height": 141
        },
        "id": "iy528EUTphz5",
        "outputId": "c2655d6d-32d3-43ea-be5f-a6e1e4e88ba4"
      },
      "outputs": [
        {
          "ename": "SyntaxError",
          "evalue": "ignored",
          "output_type": "error",
          "traceback": [
            "\u001b[0;36m  File \u001b[0;32m\"<ipython-input-7-43eadd5c0c05>\"\u001b[0;36m, line \u001b[0;32m3\u001b[0m\n\u001b[0;31m    token_results = # ..\u001b[0m\n\u001b[0m                    ^\u001b[0m\n\u001b[0;31mSyntaxError\u001b[0m\u001b[0;31m:\u001b[0m invalid syntax\n"
          ]
        }
      ],
      "source": [
        "# token_results should be a list of binary indicators; for example [1, 0, 1, ...]\n",
        "# where 1 indicates a correct classification and 0 an incorrect classification.\n",
        "token_results = [1 if l == p else 0 for l, p in zip(labels, predictions)]\n",
        "token_accuracy = sum(token_results)/len(token_results)\n",
        "print(\"Accuracy: %0.2f\" % token_accuracy)"
      ]
    },
    {
      "cell_type": "markdown",
      "metadata": {
        "id": "Twox0s_3eS0V"
      },
      "source": [
        "As the sentiment lexicon also has information about the **magnitude** of\n",
        "sentiment (e.g., *“excellent\"* has the same sentiment _polarity_ as *“good\"* but it has a higher magnitude), we can take a more fine-grained approach by adding up all\n",
        "sentiment scores, and deciding the polarity of the movie review using\n",
        "the sign of the weighted score $S_{weighted}$.\n",
        "\n",
        "$$S_{weighted}(w_1w_2...w_n) = \\sum_{i = 1}^{n}SLex\\big[w_i\\big]$$\n",
        "\n",
        "\n",
        "Make sure you define an appropriate threshold for this approach.\n",
        "\n",
        "#### (Q1.2) Now incorporate magnitude information and report the classification accuracy. Don't forget to use the threshold. (1pt)"
      ]
    },
    {
      "cell_type": "code",
      "execution_count": null,
      "metadata": {
        "id": "qG3hUDnPtkhS"
      },
      "outputs": [],
      "source": [
        "# Find a new threshold\n",
        "new_threshold = np.ceil(np.mean([binary_score(review, lexicon, True) for review in reviews]))\n",
        "\n",
        "# Make predictions with a lexicon\n",
        "predictions = classify_documents_with_lexicon(reviews, lexicon, threshold=new_threshold, use_magnitude=True)"
      ]
    },
    {
      "cell_type": "code",
      "execution_count": null,
      "metadata": {
        "colab": {
          "base_uri": "https://localhost:8080/",
          "height": 141
        },
        "id": "9vVk7CvDpyka",
        "outputId": "fb9a09d2-b878-416f-d72c-1c651099c9ed"
      },
      "outputs": [
        {
          "ename": "SyntaxError",
          "evalue": "ignored",
          "output_type": "error",
          "traceback": [
            "\u001b[0;36m  File \u001b[0;32m\"<ipython-input-9-98982ff64cb9>\"\u001b[0;36m, line \u001b[0;32m1\u001b[0m\n\u001b[0;31m    magnitude_results = # a list of binary indicators\u001b[0m\n\u001b[0m                        ^\u001b[0m\n\u001b[0;31mSyntaxError\u001b[0m\u001b[0;31m:\u001b[0m invalid syntax\n"
          ]
        }
      ],
      "source": [
        "magnitude_results = [1 if l == p else 0 for l, p in zip(labels, predictions)]\n",
        "magnitude_accuracy = sum(magnitude_results)/len(magnitude_results)\n",
        "print(\"Accuracy: %0.2f\" % magnitude_accuracy)"
      ]
    },
    {
      "cell_type": "markdown",
      "metadata": {
        "id": "h9SHoGPfsAHV"
      },
      "source": [
        "#### (Q.1.3) Make a barplot of the two results (0.5pt)"
      ]
    },
    {
      "cell_type": "code",
      "execution_count": null,
      "metadata": {
        "id": "8LgBcYcXsEk3"
      },
      "outputs": [],
      "source": [
        "plt.figure(figsize=(5, 5))\n",
        "plt.bar([0, 1], [token_accuracy, magnitude_accuracy])\n",
        "plt.xticks([0, 1], labels=['token', 'magnitude'])\n",
        "plt.ylabel('Accuracy');"
      ]
    },
    {
      "cell_type": "markdown",
      "metadata": {
        "id": "sNhS8OCVxMHd"
      },
      "source": [
        "#### (Q1.4) A better threshold (1pt)\n",
        "Above we have defined a threshold to account for an inherent bias in the dataset: there are more positive than negative words per review.\n",
        "However, that threshold does not take into account *document length*. Explain why this is a problem and implement an alternative way to compute the threshold."
      ]
    },
    {
      "cell_type": "markdown",
      "metadata": {
        "id": "xo7gk1I-omLI"
      },
      "source": [
        "*Write your answer here.*"
      ]
    },
    {
      "cell_type": "code",
      "execution_count": null,
      "metadata": {
        "id": "Dwt0B8h8aKjr"
      },
      "outputs": [],
      "source": [
        "# YOUR CODE HERE"
      ]
    },
    {
      "cell_type": "markdown",
      "metadata": {
        "id": "LibV4nR89BXb"
      },
      "source": [
        "# (2) Naive Bayes (9.5pts)"
      ]
    },
    {
      "cell_type": "markdown",
      "metadata": {
        "id": "fnF9adQnuwia"
      },
      "source": [
        "\n",
        "Your second task is to program a simple Machine Learning approach that operates\n",
        "on a simple Bag-of-Words (BoW) representation of the text data, as\n",
        "described by Pang et al. (2002). In this approach, the only features we\n",
        "will consider are the words in the text themselves, without bringing in\n",
        "external sources of information. The BoW model is a popular way of\n",
        "representing texts as vectors, making it\n",
        "easy to apply classical Machine Learning algorithms on NLP tasks.\n",
        "However, the BoW representation is also very crude, since it discards\n",
        "all information related to word order and grammatical structure in the\n",
        "original text—as the name suggests.\n",
        "\n",
        "## Writing your own classifier (4pts)\n",
        "\n",
        "Write your own code to implement the Naive Bayes (NB) classifier. As\n",
        "a reminder, the Naive Bayes classifier works according to the following\n",
        "equation:\n",
        "$$\\hat{c} = \\operatorname*{arg\\,max}_{c \\in C} P(c|\\bar{f}) = \\operatorname*{arg\\,max}_{c \\in C} P(c)\\prod^n_{i=1} P(f_i|c)$$\n",
        "where $C = \\{ \\text{POS}, \\text{NEG} \\}$ is the set of possible classes,\n",
        "$\\hat{c} \\in C$ is the most probable class, and $\\bar{f}$ is the feature\n",
        "vector. Remember that we use the log of these probabilities when making\n",
        "a prediction:\n",
        "$$\\hat{c} = \\operatorname*{arg\\,max}_{c \\in C} \\Big\\{\\log P(c) + \\sum^n_{i=1} \\log P(f_i|c)\\Big\\}$$\n",
        "\n",
        "You can find more details about Naive Bayes in [Jurafsky &\n",
        "Martin](https://web.stanford.edu/~jurafsky/slp3/). You can also look at\n",
        "this helpful\n",
        "[pseudo-code](https://nlp.stanford.edu/IR-book/html/htmledition/naive-bayes-text-classification-1.html).\n",
        "\n",
        "*Note: this section and the next aim to put you in a position to replicate\n",
        "    Pang et al.'s Naive Bayes results. However, your numerical results\n",
        "    will differ from theirs, as they used different data.*\n",
        "\n",
        "**You must write the Naive Bayes training and prediction code from\n",
        "scratch.** You will not be given credit for using off-the-shelf Machine\n",
        "Learning libraries.\n",
        "\n",
        "The data contains the text of the reviews, where each document consists\n",
        "of the sentences in the review, the sentiment of the review and an index\n",
        "(cv) that you will later use for cross-validation. The\n",
        "text has already been tokenised and POS-tagged for you. Your algorithm\n",
        "should read in the text, **lowercase it**, store the words and their\n",
        "frequencies in an appropriate data structure that allows for easy\n",
        "computation of the probabilities used in the Naive Bayes algorithm, and\n",
        "then make predictions for new instances.\n"
      ]
    },
    {
      "cell_type": "markdown",
      "metadata": {
        "id": "vEpyQSBSkb33"
      },
      "source": [
        "#### (Q2.1) Unseen words (1pt)\n",
        "The presence of words in the test dataset that\n",
        "have not been seen during training can cause probabilities in the Naive Bayes classifier to equal $0$.\n",
        "These can be words which are unseen in both positive and negative training reviews (case 1), but also words which are seen in reviews _of only one sentiment class_ in the training dataset (case 2). In both cases, **you should skip these words for both classes at test time**.  What would be the problem instead with skipping words only for one class in case 2?"
      ]
    },
    {
      "cell_type": "markdown",
      "metadata": {
        "id": "BanFiYYnoxDW"
      },
      "source": [
        "*Write your answer here.*"
      ]
    },
    {
      "cell_type": "markdown",
      "metadata": {
        "id": "gsZRhaI3WvzC"
      },
      "source": [
        "#### (Q2.2) Train your classifier on (positive and negative) reviews with cv-value 000-899, and test it on the remaining (positive and negative) reviews cv900–cv999.  Report results using classification accuracy as your evaluation metric. Your  features are the word vocabulary. The value of a feature is the count of that feature (word) in the document. (2pts)\n"
      ]
    },
    {
      "cell_type": "code",
      "execution_count": 64,
      "metadata": {
        "id": "XWAc-dc9IbfV"
      },
      "outputs": [],
      "source": [
        "class NaiveBayesClassifier:\n",
        "    def __init__(self, k=None):\n",
        "        self.k = k\n",
        "\n",
        "    def _skip_word(self, word):\n",
        "        \"\"\"\n",
        "        Determines whether we should skip the words unseen by one of the classes.\n",
        "\n",
        "        Args:\n",
        "            word (str): a word to check\n",
        "\n",
        "        Returns:\n",
        "            (bool): whether we should skip the word\n",
        "        \"\"\"\n",
        "        for c in self.class_priors:\n",
        "            if self.class_condtitional_probs[word][c] == 0:\n",
        "                return True\n",
        "        return False\n",
        "\n",
        "    def train(self, data):\n",
        "        \"\"\"\n",
        "        Trains the NB classifier.\n",
        "\n",
        "        Args:\n",
        "            data (list[dict]): training data with dicts of format\n",
        "                {'cv': int, 'sentiment': str, 'content': list}\n",
        "        \"\"\"\n",
        "        self.vocab = self.extract_vocab(data)\n",
        "        self.n_docs = len(data)\n",
        "        self.class_priors = self.compute_class_priors(data)\n",
        "        self.class_condtitional_probs = self.compute_class_condtitional_probs(data)\n",
        "\n",
        "    def predict(self, data):\n",
        "        \"\"\"\n",
        "        Predicts the labels of the documents.\n",
        "\n",
        "        Args:\n",
        "            data (list[dict]): test data with dicts of format\n",
        "                {'cv': int, 'sentiment': str, 'content': list}\n",
        "        \"\"\"\n",
        "        predictions = []\n",
        "        for document in data:\n",
        "            class_posteriors = {}\n",
        "            for c in self.class_priors:\n",
        "                class_posteriors[c] = np.log(self.class_priors[c])\n",
        "                words = self.extract_words(document)\n",
        "                for word in words:\n",
        "                    class_posteriors[c] += np.log(self.class_condtitional_probs[word][c])\n",
        "            predictions.append(max(class_posteriors, key=class_posteriors.get))\n",
        "        return predictions\n",
        "\n",
        "    def extract_words(self, document, training=False): #done\n",
        "        \"\"\"\n",
        "        Exctracts the words into a list for a document.\n",
        "\n",
        "        Args:\n",
        "            document (dict): {'cv': int, 'sentiment': str, 'content': list}\n",
        "            training (bool): Indicates whether the method is used in the training\n",
        "                or testing context. Influences whether we keep unseen words.\n",
        "                Default value: False.\n",
        "\n",
        "        Returns:\n",
        "            words (list[str]): a list of words\n",
        "        \"\"\"\n",
        "        words = []\n",
        "        for word in document['content']:\n",
        "\n",
        "            # Skip unseen words\n",
        "            if word not in self.class_condtitional_probs:\n",
        "                continue\n",
        "\n",
        "            # Skip words unseen by any class\n",
        "            if not training and self._skip_word(word):\n",
        "                continue\n",
        "\n",
        "            words.append(word)\n",
        "        return words\n",
        "\n",
        "    def extract_vocab(self, documents): # done\n",
        "        \"\"\"\n",
        "        Extracts a vocabulary from the provided data.\n",
        "\n",
        "        Args:\n",
        "            documents (list[dict]): {'cv': int, 'sentiment': str, 'content': list}\n",
        "\n",
        "        Returns:\n",
        "            vocab (Counter): all the words present in the data with corresponding counts\n",
        "        \"\"\"\n",
        "        vocab = Counter()\n",
        "        for document in documents:\n",
        "            for word in document['content']:\n",
        "                vocab[word] += 1\n",
        "        return vocab\n",
        "\n",
        "    def compute_class_counts(self, documents):\n",
        "        \"\"\"\n",
        "        Counts the number of appearences of each class in the data.\n",
        "\n",
        "        Args:\n",
        "            documents (list[dict]): {'cv': int, 'sentiment': str, 'content': list}\n",
        "\n",
        "        Returns:\n",
        "            (Counter): counts of each class\n",
        "        \"\"\"\n",
        "        return Counter([d['sentiment'] for d in documents])\n",
        "\n",
        "    def compute_class_conditional_counts(self, documents):\n",
        "        \"\"\"\n",
        "        Counts the number of appearences of each word in each class in the data.\n",
        "\n",
        "        Args:\n",
        "            documents (list[dict]): {'cv': int, 'sentiment': str, 'content': list}\n",
        "\n",
        "        Returns:\n",
        "            (dict): {'<class>': {<word>: int}}\n",
        "        \"\"\"\n",
        "        class_conditional_counts = defaultdict(Counter)\n",
        "\n",
        "        for document in documents:\n",
        "            sentiment = document['sentiment']\n",
        "            for word in document['content']:\n",
        "                class_conditional_counts[sentiment][word] += 1\n",
        "        return dict(class_conditional_counts)\n",
        "\n",
        "    def compute_class_priors(self, documents):\n",
        "        \"\"\"\n",
        "        Computes the class priors based on the class counts.\n",
        "\n",
        "        Args:\n",
        "            documents (list[dict]): {'cv': int, 'sentiment': str, 'content': list}\n",
        "\n",
        "        Returns:\n",
        "            class_priors (dict): {'<class>': float}\n",
        "        \"\"\"\n",
        "        class_counts = self.compute_class_counts(documents)\n",
        "        class_priors = {}\n",
        "        for c, count in class_counts.items():\n",
        "            class_priors[c] = count / self.n_docs\n",
        "        return class_priors\n",
        "\n",
        "    def compute_class_condtitional_probs(self, documents):\n",
        "        \"\"\"\n",
        "        Computes the class conditional likelihood based on the word counts for each class.\n",
        "\n",
        "        Args:\n",
        "            documents (list[dict]): {'cv': int, 'sentiment': str, 'content': list}\n",
        "            k (Optional[float]): smoothing factor\n",
        "\n",
        "        Returns:\n",
        "            class_condtitional_probs (dict): {'<word>': {<class>: float}}\n",
        "        \"\"\"\n",
        "        class_conditional_counts = self.compute_class_conditional_counts(documents)\n",
        "        class_condtitional_probs = defaultdict(dict)\n",
        "\n",
        "        for c, counts in class_conditional_counts.items():\n",
        "            counts_vector = np.array([counts[word] for word in self.vocab])\n",
        "            if self.k:\n",
        "                probs_vector = counts_vector + self.k / (counts_vector.sum() + len(self.vocab)*self.k)\n",
        "            else:\n",
        "                probs_vector = counts_vector / counts_vector.sum()\n",
        "\n",
        "            for i, word in enumerate(self.vocab):\n",
        "                class_condtitional_probs[word][c] = probs_vector[i]\n",
        "\n",
        "        return dict(class_condtitional_probs)\n",
        "\n",
        "\n",
        "class DataLoader:\n",
        "    def __init__(self, data):\n",
        "        self.data = data\n",
        "        self.stemmer = PorterStemmer()\n",
        "\n",
        "    def get_data(self, start_index, end_index, sentiment=None, ngrams_n=None, use_stemming=False, POS = False, pos_to_keep = None):\n",
        "        new_documents = []\n",
        "\n",
        "        if sentiment == None:\n",
        "            subset = [document for document in self.data if (start_index <= document['cv'] <= end_index)]\n",
        "        else:\n",
        "            subset = [document for document in self.data if (start_index <= document['cv'] <= end_index) and (document['sentiment'] == sentiment)]\n",
        "\n",
        "        # return the data in a cleaner format\n",
        "        for document in subset:\n",
        "            new_document = {}\n",
        "\n",
        "            words, pos_tags = self._flatten_content(document, use_stemming)\n",
        "            #print(type(words))\n",
        "\n",
        "\n",
        "            if ngrams_n is not None:\n",
        "                for n in range(2, ngrams_n+1):\n",
        "                    words += list(ngrams(words, n))\n",
        "                    pos_tags += list(ngrams(pos_tags, n))\n",
        "\n",
        "            # essentially used to only keep the POS tags in pos_to_keep, and if this is a 2d list we want to replace all the POS tags in the twod list with the first element of this 2d list -> all verbs are just VB\n",
        "            if POS:\n",
        "                if pos_to_keep is not None:\n",
        "                    if isinstance(pos_to_keep[0], list):\n",
        "                      temp_words = []\n",
        "                      for pos_type in pos_to_keep:\n",
        "                          #print(pos_type[0])\n",
        "                          temp_words += [word + '_' + pos_type[0] for word, pos in zip(words,pos_tags) if pos in pos_type]\n",
        "                      words = temp_words\n",
        "                    else:\n",
        "                        words = [word + '_' + pos.strip() for word, pos in zip(words,pos_tags) if pos in pos_to_keep]\n",
        "                else:\n",
        "                  words = [word + '_' + pos.strip() for word, pos in zip(words,pos_tags)]\n",
        "\n",
        "            new_document['content'] = words\n",
        "            #new_document['pos'] = pos_tags -> instead adding it behind the data like word_POS seems much easier.\n",
        "            new_document['cv'] = document['cv']\n",
        "            new_document['sentiment'] = document['sentiment']\n",
        "            new_documents.append(new_document)\n",
        "\n",
        "        return new_documents\n",
        "\n",
        "    def _flatten_content(self, document, use_stemming):\n",
        "        words, pos_tags = [], []\n",
        "        for sentence in document['content']:\n",
        "            for word, pos in sentence:\n",
        "                words.append(self._clean(word, use_stemming))\n",
        "                pos_tags.append(pos)\n",
        "        return words, pos_tags\n",
        "\n",
        "\n",
        "    def _clean(self, word, use_stemming):\n",
        "        \"\"\"\n",
        "        Preprocesses the word by lowercasing it and applying stemming (optional).\n",
        "\n",
        "        Args:\n",
        "            word (str): the word to clean\n",
        "\n",
        "        Returns:\n",
        "            clean_word (str): the cleaned word\n",
        "        \"\"\"\n",
        "        clean_word = word.lower()\n",
        "        if use_stemming:\n",
        "            clean_word = self._stem(clean_word)\n",
        "        return clean_word\n",
        "\n",
        "    def _stem(self, word):\n",
        "        \"\"\"\n",
        "        Stems the word.\n",
        "\n",
        "        Args:\n",
        "            word (str): the word to stem\n",
        "\n",
        "        Returns:\n",
        "            (str): the stemmed word\n",
        "        \"\"\"\n",
        "        return self.stemmer.stem(word)\n",
        "\n",
        "\n",
        "def evaluate_model(model, test_data):\n",
        "    # Predict the classes on the test data\n",
        "    predictions = model.predict(test_data)\n",
        "\n",
        "    # Extract the true labels and compare them to the predictions\n",
        "    labels = [d['sentiment'] for d in test_data]\n",
        "    correct_predictions = [1 if p == l else 0 for p, l in zip(predictions, labels)]\n",
        "\n",
        "    # Compute accuracy\n",
        "    accuracy = sum(correct_predictions) / len(correct_predictions)\n",
        "    return accuracy\n",
        "\n",
        "\n",
        "data_loader = DataLoader(reviews)"
      ]
    },
    {
      "cell_type": "code",
      "execution_count": 6,
      "metadata": {
        "colab": {
          "base_uri": "https://localhost:8080/"
        },
        "id": "dNsu8LJyIbfX",
        "outputId": "b8170267-209a-4b67-9b55-541c61be03d9"
      },
      "outputs": [
        {
          "output_type": "execute_result",
          "data": {
            "text/plain": [
              "0.825"
            ]
          },
          "metadata": {},
          "execution_count": 6
        }
      ],
      "source": [
        "# Split the data\n",
        "train, test = data_loader.get_data(0, 899), data_loader.get_data(900, 999)\n",
        "\n",
        "# Train the NB classifier\n",
        "nb = NaiveBayesClassifier()\n",
        "nb.train(train)\n",
        "\n",
        "# Compute the accuracy\n",
        "evaluate_model(nb, test)"
      ]
    },
    {
      "cell_type": "markdown",
      "metadata": {
        "id": "0INK-PBoM6CB"
      },
      "source": [
        "#### (Q2.3) Would you consider accuracy to also be a good way to evaluate your classifier in a situation where 90% of your data instances are of positive movie reviews? (1pt)\n",
        "\n",
        "Simulate this scenario by keeping the positive reviews\n",
        "data unchanged, but only using negative reviews cv000–cv089 for\n",
        "training, and cv900–cv909 for testing. Calculate the classification\n",
        "accuracy, and explain what changed."
      ]
    },
    {
      "cell_type": "markdown",
      "metadata": {
        "id": "oFbcsYlipBAw"
      },
      "source": [
        "*Write your answer here.*"
      ]
    },
    {
      "cell_type": "code",
      "execution_count": 7,
      "metadata": {
        "id": "GWDkt5ZrrFGp",
        "colab": {
          "base_uri": "https://localhost:8080/"
        },
        "outputId": "18007b7e-fdc6-4b43-f5be-f4003a569ce1"
      },
      "outputs": [
        {
          "output_type": "stream",
          "name": "stdout",
          "text": [
            "Number of documents in training set: 990\n",
            "Number of documents in test set: 110\n"
          ]
        },
        {
          "output_type": "execute_result",
          "data": {
            "text/plain": [
              "0.6"
            ]
          },
          "metadata": {},
          "execution_count": 7
        }
      ],
      "source": [
        "train_negative = data_loader.get_data(0,89, 'NEG')\n",
        "test_negative = data_loader.get_data(900, 909, 'NEG')\n",
        "\n",
        "train_positive = data_loader.get_data(0, 899, 'POS')\n",
        "test_positive = data_loader.get_data(900, 999, 'POS')\n",
        "\n",
        "train_total = train_negative + train_positive\n",
        "test_total = test_negative + test_positive\n",
        "print(\"Number of documents in training set:\", len(train_total))\n",
        "print(\"Number of documents in test set:\", len(test_total))\n",
        "\n",
        "# Train the NB classifier\n",
        "nb = NaiveBayesClassifier()\n",
        "nb.train(train_total)\n",
        "\n",
        "evaluate_model(nb, test_total)"
      ]
    },
    {
      "cell_type": "markdown",
      "metadata": {
        "id": "6wJzcHX3WUDm"
      },
      "source": [
        "## Smoothing (1pt)\n",
        "\n",
        "As mentioned above, the presence of words in the test dataset that\n",
        "have not been seen during training can cause probabilities in the Naive\n",
        "Bayes classifier to be $0$, thus making that particular test instance\n",
        "undecidable. The standard way to mitigate this effect (as well as to\n",
        "give more clout to rare words) is to use smoothing, in which the\n",
        "probability fraction\n",
        "$$\\frac{\\text{count}(w_i, c)}{\\sum\\limits_{w\\in V} \\text{count}(w, c)}$$ for a word\n",
        "$w_i$ becomes\n",
        "$$\\frac{\\text{count}(w_i, c) + \\text{smoothing}(w_i)}{\\sum\\limits_{w\\in V} \\text{count}(w, c) + \\sum\\limits_{w \\in V} \\text{smoothing}(w)}$$\n",
        "\n",
        "\n",
        "\n"
      ]
    },
    {
      "cell_type": "markdown",
      "metadata": {
        "id": "PBNIcbwUWphC"
      },
      "source": [
        "#### (Q2.4) Implement Laplace feature smoothing (1pt)\n",
        "Implement Laplace smoothing, i.e., smoothing with a constant value ($smoothing(w) = \\kappa, \\forall w \\in V$), in your Naive\n",
        "Bayes classifier’s code, and report the accuracy.\n",
        "Use $\\kappa = 1$."
      ]
    },
    {
      "cell_type": "code",
      "execution_count": 8,
      "metadata": {
        "id": "g03yflCc9kpW",
        "colab": {
          "base_uri": "https://localhost:8080/"
        },
        "outputId": "65cd24be-358d-4dcb-976c-b0d24d5bcc02"
      },
      "outputs": [
        {
          "output_type": "execute_result",
          "data": {
            "text/plain": [
              "0.9090909090909091"
            ]
          },
          "metadata": {},
          "execution_count": 8
        }
      ],
      "source": [
        "# Train the NB classifier\n",
        "nb = NaiveBayesClassifier(k=1)\n",
        "nb.train(train_total)\n",
        "\n",
        "evaluate_model(nb, test_total)"
      ]
    },
    {
      "cell_type": "markdown",
      "metadata": {
        "id": "ZiGcgwba87D5"
      },
      "source": [
        "## Cross-Validation (1.5pts)\n",
        "\n",
        "A serious danger in using Machine Learning on small datasets, with many\n",
        "iterations of slightly different versions of the algorithms, is ending up with Type III errors, also called the “testing hypotheses\n",
        "suggested by the data” errors. This type of error occurs when we make\n",
        "repeated improvements to our classifiers by playing with features and\n",
        "their processing, but we don’t get a fresh, never-before seen test\n",
        "dataset every time. Thus, we risk developing a classifier that gets better\n",
        "and better on our data, but only gets worse at generalizing to new, unseen data. In other words, we risk developping a classifier that overfits.\n",
        "\n",
        "A simple method to guard against Type III errors is to use\n",
        "Cross-Validation. In **N-fold Cross-Validation**, we divide the data into N\n",
        "distinct chunks, or folds. Then, we repeat the experiment N times: each\n",
        "time holding out one of the folds for testing, training our classifier\n",
        "on the remaining N - 1 data folds, and reporting performance on the\n",
        "held-out fold. We can use different strategies for dividing the data:\n",
        "\n",
        "-   Consecutive splitting:\n",
        "  - cv000–cv099 = Split 1\n",
        "  - cv100–cv199 = Split 2\n",
        "  - etc.\n",
        "  \n",
        "-   Round-robin splitting (mod 10):\n",
        "  - cv000, cv010, cv020, … = Split 1\n",
        "  - cv001, cv011, cv021, … = Split 2\n",
        "  - etc.\n",
        "\n",
        "-   Random sampling/splitting\n",
        "  - Not used here (but you may choose to split this way in a non-educational situation)\n",
        "\n"
      ]
    },
    {
      "cell_type": "markdown",
      "metadata": {
        "id": "8OeLcbSauGtR"
      },
      "source": [
        "#### (Q2.5) Write the code to implement 10-fold cross-validation using round-robin splitting for your Naive Bayes classifier from Q2.4 and compute the 10 accuracies. Report the final performance, which is the average of the performances per fold. If all splits perform equally well, this is a good sign. (1pt)"
      ]
    },
    {
      "cell_type": "code",
      "execution_count": 9,
      "metadata": {
        "id": "_mb7Iv72Ibfi"
      },
      "outputs": [],
      "source": [
        "def cross_validation(data_loader, n_splits=10, total_points=1000, use_stemming=False, ngrams_n=None, k=None, verbose=False):\n",
        "    split_size = total_points // n_splits\n",
        "\n",
        "    results = []\n",
        "    for i in range(0, total_points, split_size):\n",
        "        if verbose:\n",
        "            print(f\"Split {i}:{i+split_size}\", end=\" | \")\n",
        "        test_data = data_loader.get_data(i, i+split_size, use_stemming=use_stemming, ngrams_n=ngrams_n)\n",
        "\n",
        "        train_start_2, train_end_2 = i+split_size, total_points\n",
        "        train_data = []\n",
        "        if i != 0:\n",
        "            train_data += data_loader.get_data(0, 0+i, use_stemming=use_stemming, ngrams_n=ngrams_n)\n",
        "        if i+split_size != total_points:\n",
        "            train_data += data_loader.get_data(i+split_size, total_points, use_stemming=use_stemming, ngrams_n=ngrams_n)\n",
        "\n",
        "        model = NaiveBayesClassifier(k=k)\n",
        "        model.train(train_data)\n",
        "\n",
        "        accuracy = evaluate_model(model, test_data)\n",
        "        results.append(accuracy)\n",
        "        if verbose:\n",
        "            print(f\"accuracy: {accuracy}\")\n",
        "\n",
        "    results = np.array(results)\n",
        "    print(f\"\\nAverage accuracy: {np.mean(results)}\")\n",
        "    print(f\"Max accuracy: {np.max(results)}\")\n",
        "    print(f\"Min accuracy: {np.min(results)}\")\n",
        "    print(f\"Variance: {((results - results.mean())**2).mean()}\")\n",
        "\n",
        "    return results\n"
      ]
    },
    {
      "cell_type": "code",
      "execution_count": 10,
      "metadata": {
        "id": "3KeCGPa7Nuzx",
        "colab": {
          "base_uri": "https://localhost:8080/"
        },
        "outputId": "202df04b-30e8-4db0-ff62-360428768c5b"
      },
      "outputs": [
        {
          "output_type": "stream",
          "name": "stdout",
          "text": [
            "Split 0:100 | accuracy: 0.7772277227722773\n",
            "Split 100:200 | accuracy: 0.8267326732673267\n",
            "Split 200:300 | accuracy: 0.8465346534653465\n",
            "Split 300:400 | accuracy: 0.8217821782178217\n",
            "Split 400:500 | accuracy: 0.8168316831683168\n",
            "Split 500:600 | accuracy: 0.8267326732673267\n",
            "Split 600:700 | accuracy: 0.8267326732673267\n",
            "Split 700:800 | accuracy: 0.8316831683168316\n",
            "Split 800:900 | accuracy: 0.7821782178217822\n",
            "Split 900:1000 | accuracy: 0.825\n",
            "\n",
            "Average accuracy: 0.8181435643564356\n",
            "Max accuracy: 0.8465346534653465\n",
            "Min accuracy: 0.7772277227722773\n",
            "Variance: 0.0004240276688559936\n"
          ]
        }
      ],
      "source": [
        "results = cross_validation(data_loader, use_stemming=False, k=None, ngrams_n=None, verbose=True)"
      ]
    },
    {
      "cell_type": "code",
      "execution_count": 11,
      "metadata": {
        "colab": {
          "base_uri": "https://localhost:8080/",
          "height": 373
        },
        "id": "xdXwsowFIbfj",
        "outputId": "e326ab0b-21af-469c-e180-a67c0ad7636f"
      },
      "outputs": [
        {
          "output_type": "stream",
          "name": "stdout",
          "text": [
            "Split 0:100 | accuracy: 0.6485148514851485\n",
            "Split 100:200 | accuracy: 0.693069306930693\n",
            "Split 200:300 | "
          ]
        },
        {
          "output_type": "error",
          "ename": "KeyboardInterrupt",
          "evalue": "ignored",
          "traceback": [
            "\u001b[0;31m---------------------------------------------------------------------------\u001b[0m",
            "\u001b[0;31mKeyboardInterrupt\u001b[0m                         Traceback (most recent call last)",
            "\u001b[0;32m<ipython-input-11-799a36307bb2>\u001b[0m in \u001b[0;36m<cell line: 1>\u001b[0;34m()\u001b[0m\n\u001b[0;32m----> 1\u001b[0;31m \u001b[0mresults\u001b[0m \u001b[0;34m=\u001b[0m \u001b[0mcross_validation\u001b[0m\u001b[0;34m(\u001b[0m\u001b[0mdata_loader\u001b[0m\u001b[0;34m,\u001b[0m \u001b[0muse_stemming\u001b[0m\u001b[0;34m=\u001b[0m\u001b[0;32mFalse\u001b[0m\u001b[0;34m,\u001b[0m \u001b[0mk\u001b[0m\u001b[0;34m=\u001b[0m\u001b[0;36m1\u001b[0m\u001b[0;34m,\u001b[0m \u001b[0mngrams_n\u001b[0m\u001b[0;34m=\u001b[0m\u001b[0;32mNone\u001b[0m\u001b[0;34m,\u001b[0m \u001b[0mverbose\u001b[0m\u001b[0;34m=\u001b[0m\u001b[0;32mTrue\u001b[0m\u001b[0;34m)\u001b[0m\u001b[0;34m\u001b[0m\u001b[0;34m\u001b[0m\u001b[0m\n\u001b[0m",
            "\u001b[0;32m<ipython-input-9-476bba8edb50>\u001b[0m in \u001b[0;36mcross_validation\u001b[0;34m(data_loader, n_splits, total_points, use_stemming, ngrams_n, k, verbose)\u001b[0m\n\u001b[1;32m     16\u001b[0m \u001b[0;34m\u001b[0m\u001b[0m\n\u001b[1;32m     17\u001b[0m         \u001b[0mmodel\u001b[0m \u001b[0;34m=\u001b[0m \u001b[0mNaiveBayesClassifier\u001b[0m\u001b[0;34m(\u001b[0m\u001b[0mk\u001b[0m\u001b[0;34m=\u001b[0m\u001b[0mk\u001b[0m\u001b[0;34m)\u001b[0m\u001b[0;34m\u001b[0m\u001b[0;34m\u001b[0m\u001b[0m\n\u001b[0;32m---> 18\u001b[0;31m         \u001b[0mmodel\u001b[0m\u001b[0;34m.\u001b[0m\u001b[0mtrain\u001b[0m\u001b[0;34m(\u001b[0m\u001b[0mtrain_data\u001b[0m\u001b[0;34m)\u001b[0m\u001b[0;34m\u001b[0m\u001b[0;34m\u001b[0m\u001b[0m\n\u001b[0m\u001b[1;32m     19\u001b[0m \u001b[0;34m\u001b[0m\u001b[0m\n\u001b[1;32m     20\u001b[0m         \u001b[0maccuracy\u001b[0m \u001b[0;34m=\u001b[0m \u001b[0mevaluate_model\u001b[0m\u001b[0;34m(\u001b[0m\u001b[0mmodel\u001b[0m\u001b[0;34m,\u001b[0m \u001b[0mtest_data\u001b[0m\u001b[0;34m)\u001b[0m\u001b[0;34m\u001b[0m\u001b[0;34m\u001b[0m\u001b[0m\n",
            "\u001b[0;32m<ipython-input-5-de2f00e64b27>\u001b[0m in \u001b[0;36mtrain\u001b[0;34m(self, data)\u001b[0m\n\u001b[1;32m     29\u001b[0m         \u001b[0mself\u001b[0m\u001b[0;34m.\u001b[0m\u001b[0mn_docs\u001b[0m \u001b[0;34m=\u001b[0m \u001b[0mlen\u001b[0m\u001b[0;34m(\u001b[0m\u001b[0mdata\u001b[0m\u001b[0;34m)\u001b[0m\u001b[0;34m\u001b[0m\u001b[0;34m\u001b[0m\u001b[0m\n\u001b[1;32m     30\u001b[0m         \u001b[0mself\u001b[0m\u001b[0;34m.\u001b[0m\u001b[0mclass_priors\u001b[0m \u001b[0;34m=\u001b[0m \u001b[0mself\u001b[0m\u001b[0;34m.\u001b[0m\u001b[0mcompute_class_priors\u001b[0m\u001b[0;34m(\u001b[0m\u001b[0mdata\u001b[0m\u001b[0;34m)\u001b[0m\u001b[0;34m\u001b[0m\u001b[0;34m\u001b[0m\u001b[0m\n\u001b[0;32m---> 31\u001b[0;31m         \u001b[0mself\u001b[0m\u001b[0;34m.\u001b[0m\u001b[0mclass_condtitional_probs\u001b[0m \u001b[0;34m=\u001b[0m \u001b[0mself\u001b[0m\u001b[0;34m.\u001b[0m\u001b[0mcompute_class_condtitional_probs\u001b[0m\u001b[0;34m(\u001b[0m\u001b[0mdata\u001b[0m\u001b[0;34m)\u001b[0m\u001b[0;34m\u001b[0m\u001b[0;34m\u001b[0m\u001b[0m\n\u001b[0m\u001b[1;32m     32\u001b[0m \u001b[0;34m\u001b[0m\u001b[0m\n\u001b[1;32m     33\u001b[0m     \u001b[0;32mdef\u001b[0m \u001b[0mpredict\u001b[0m\u001b[0;34m(\u001b[0m\u001b[0mself\u001b[0m\u001b[0;34m,\u001b[0m \u001b[0mdata\u001b[0m\u001b[0;34m)\u001b[0m\u001b[0;34m:\u001b[0m\u001b[0;34m\u001b[0m\u001b[0;34m\u001b[0m\u001b[0m\n",
            "\u001b[0;32m<ipython-input-5-de2f00e64b27>\u001b[0m in \u001b[0;36mcompute_class_condtitional_probs\u001b[0;34m(self, documents)\u001b[0m\n\u001b[1;32m    150\u001b[0m             \u001b[0mclass_condtitional_probs\u001b[0m \u001b[0;34m(\u001b[0m\u001b[0mdict\u001b[0m\u001b[0;34m)\u001b[0m\u001b[0;34m:\u001b[0m \u001b[0;34m{\u001b[0m\u001b[0;34m'<word>'\u001b[0m\u001b[0;34m:\u001b[0m \u001b[0;34m{\u001b[0m\u001b[0;34m<\u001b[0m\u001b[0;32mclass\u001b[0m\u001b[0;34m>\u001b[0m\u001b[0;34m:\u001b[0m \u001b[0mfloat\u001b[0m\u001b[0;34m}\u001b[0m\u001b[0;34m}\u001b[0m\u001b[0;34m\u001b[0m\u001b[0;34m\u001b[0m\u001b[0m\n\u001b[1;32m    151\u001b[0m         \"\"\"\n\u001b[0;32m--> 152\u001b[0;31m         \u001b[0mclass_conditional_counts\u001b[0m \u001b[0;34m=\u001b[0m \u001b[0mself\u001b[0m\u001b[0;34m.\u001b[0m\u001b[0mcompute_class_conditional_counts\u001b[0m\u001b[0;34m(\u001b[0m\u001b[0mdocuments\u001b[0m\u001b[0;34m)\u001b[0m\u001b[0;34m\u001b[0m\u001b[0;34m\u001b[0m\u001b[0m\n\u001b[0m\u001b[1;32m    153\u001b[0m         \u001b[0mclass_condtitional_probs\u001b[0m \u001b[0;34m=\u001b[0m \u001b[0mdefaultdict\u001b[0m\u001b[0;34m(\u001b[0m\u001b[0mdict\u001b[0m\u001b[0;34m)\u001b[0m\u001b[0;34m\u001b[0m\u001b[0;34m\u001b[0m\u001b[0m\n\u001b[1;32m    154\u001b[0m \u001b[0;34m\u001b[0m\u001b[0m\n",
            "\u001b[0;32m<ipython-input-5-de2f00e64b27>\u001b[0m in \u001b[0;36mcompute_class_conditional_counts\u001b[0;34m(self, documents)\u001b[0m\n\u001b[1;32m    120\u001b[0m             \u001b[0msentiment\u001b[0m \u001b[0;34m=\u001b[0m \u001b[0mdocument\u001b[0m\u001b[0;34m[\u001b[0m\u001b[0;34m'sentiment'\u001b[0m\u001b[0;34m]\u001b[0m\u001b[0;34m\u001b[0m\u001b[0;34m\u001b[0m\u001b[0m\n\u001b[1;32m    121\u001b[0m             \u001b[0;32mfor\u001b[0m \u001b[0mword\u001b[0m \u001b[0;32min\u001b[0m \u001b[0mdocument\u001b[0m\u001b[0;34m[\u001b[0m\u001b[0;34m'content'\u001b[0m\u001b[0;34m]\u001b[0m\u001b[0;34m:\u001b[0m\u001b[0;34m\u001b[0m\u001b[0;34m\u001b[0m\u001b[0m\n\u001b[0;32m--> 122\u001b[0;31m                 \u001b[0mclass_conditional_counts\u001b[0m\u001b[0;34m[\u001b[0m\u001b[0msentiment\u001b[0m\u001b[0;34m]\u001b[0m\u001b[0;34m[\u001b[0m\u001b[0mword\u001b[0m\u001b[0;34m]\u001b[0m \u001b[0;34m+=\u001b[0m \u001b[0;36m1\u001b[0m\u001b[0;34m\u001b[0m\u001b[0;34m\u001b[0m\u001b[0m\n\u001b[0m\u001b[1;32m    123\u001b[0m         \u001b[0;32mreturn\u001b[0m \u001b[0mdict\u001b[0m\u001b[0;34m(\u001b[0m\u001b[0mclass_conditional_counts\u001b[0m\u001b[0;34m)\u001b[0m\u001b[0;34m\u001b[0m\u001b[0;34m\u001b[0m\u001b[0m\n\u001b[1;32m    124\u001b[0m \u001b[0;34m\u001b[0m\u001b[0m\n",
            "\u001b[0;31mKeyboardInterrupt\u001b[0m: "
          ]
        }
      ],
      "source": [
        "results = cross_validation(data_loader, use_stemming=False, k=1, ngrams_n=None, verbose=True)"
      ]
    },
    {
      "cell_type": "markdown",
      "metadata": {
        "id": "otdlsDXBNyOa"
      },
      "source": [
        "#### (Q2.6) Report the variance of the 10 accuracy scores. (0.5pt)\n",
        "\n",
        "**Please report all future results using 10-fold cross-validation now\n",
        "(unless told to use the held-out test set).** Note: you're not allowed to use a library for computing the variance."
      ]
    },
    {
      "cell_type": "code",
      "execution_count": null,
      "metadata": {
        "id": "ZoBQm1KuNzNR"
      },
      "outputs": [],
      "source": [
        "((results - results.mean())**2).mean()"
      ]
    },
    {
      "cell_type": "markdown",
      "metadata": {
        "id": "s6A2zX9_BRKm"
      },
      "source": [
        "## Features, overfitting, and the curse of dimensionality\n",
        "\n",
        "In the Bag-of-Words model, ideally we would like each distinct word in\n",
        "the text to be mapped to its own dimension in the output vector\n",
        "representation. However, real world text is messy, and we need to decide\n",
        "on what we consider to be a word. For example, is “`word`\" different\n",
        "from “`Word`\", from “`word`”, or from “`words`\"? Too strict a\n",
        "definition, and the number of features explodes, while our algorithm\n",
        "fails to learn anything generalisable. Too lax, and we risk destroying\n",
        "our learning signal. In the following section, you will learn about\n",
        "confronting the feature sparsity and the overfitting problems as they\n",
        "occur in NLP classification tasks."
      ]
    },
    {
      "cell_type": "markdown",
      "metadata": {
        "id": "EKK8FNt8VtcZ"
      },
      "source": [
        "### Stemming (1.5pts)\n",
        "\n",
        "To make your algorithm more robust, use stemming and hash different inflections of a word to the same feature in the BoW vector space. Please use the [Porter stemming\n",
        "    algorithm](http://www.nltk.org/howto/stem.html) from NLTK.\n",
        "\n"
      ]
    },
    {
      "cell_type": "code",
      "execution_count": null,
      "metadata": {
        "id": "NxtCul1IrBi_"
      },
      "outputs": [],
      "source": [
        "# instead of implementing it here it is implemented in the large code block above"
      ]
    },
    {
      "cell_type": "markdown",
      "metadata": {
        "id": "6SrJ1BeLXTnk"
      },
      "source": [
        "#### (Q2.7): How does the performance of your classifier change when you use stemming on your training and test datasets? (1pt)\n",
        "Use cross-validation to evaluate the classifier.\n"
      ]
    },
    {
      "cell_type": "code",
      "execution_count": null,
      "metadata": {
        "id": "gYqKBOiIrInT"
      },
      "outputs": [],
      "source": [
        "results = cross_validation(data_loader, use_stemming=True, k=1, ngrams_n=None, verbose=False)"
      ]
    },
    {
      "cell_type": "markdown",
      "metadata": {
        "id": "JkDHVq_1XUVP"
      },
      "source": [
        "#### (Q2.8) What happens to the number of features (i.e., the size of the vocabulary) when using stemming as opposed to (Q2.4)? (0.5pt)\n",
        "Give actual numbers. You can use the held-out training set to determine these."
      ]
    },
    {
      "cell_type": "code",
      "execution_count": null,
      "metadata": {
        "id": "MA3vee5-rJyy"
      },
      "outputs": [],
      "source": [
        "nb = NaiveBayesClassifier()\n",
        "no_stem_vocab = nb.extract_vocab(data_loader.get_data(0, 899, use_stemming=False))\n",
        "stem_vocab = nb.extract_vocab(data_loader.get_data(0, 899, use_stemming=True))\n",
        "\n",
        "print(f\"Vocab size without stemming: {len(no_stem_vocab)}\")\n",
        "print(f\"Vocab size with stemming: {len(stem_vocab)}\")"
      ]
    },
    {
      "cell_type": "markdown",
      "metadata": {
        "id": "SoazfxbNV5Lq"
      },
      "source": [
        "### N-grams (1.5pts)\n",
        "\n",
        "A simple way of retaining some of the word\n",
        "order information when using bag-of-words representations is to use **n-gram** features.\n",
        "\n",
        "\n",
        "\n",
        "\n"
      ]
    },
    {
      "cell_type": "markdown",
      "metadata": {
        "id": "OHjy3I7-qWiu"
      },
      "source": [
        "#### (Q2.9) Retrain your classifier from (Q2.4) using **unigrams+bigrams** and **unigrams+bigrams+trigrams** as features. (1pt)\n",
        "Report accuracy and compare it with that of the approaches you have previously implemented. You are allowed to use NLTK to build n-grams from sentences."
      ]
    },
    {
      "cell_type": "code",
      "execution_count": null,
      "metadata": {
        "id": "eYuKMTOpq9jz"
      },
      "outputs": [],
      "source": [
        "results_n2 = cross_validation(data_loader, use_stemming=False, k=1, ngrams_n=2, verbose=True)"
      ]
    },
    {
      "cell_type": "code",
      "execution_count": null,
      "metadata": {
        "id": "fi-kqYzYIbfq"
      },
      "outputs": [],
      "source": [
        "results_n3 = cross_validation(data_loader, use_stemming=False, k=1, ngrams_n=3, verbose=True)"
      ]
    },
    {
      "cell_type": "markdown",
      "metadata": {
        "id": "dVrGGArkrWoL"
      },
      "source": [
        "\n",
        "#### Q2.10: How many features does the BoW model have to take into account now? (0.5pt)\n",
        "How would you expect the number of features to increase theoretically (e.g., linear, square, cubed, exponential)? How does this number compare, in practice, to the number of features at (Q2.8)?\n",
        "\n",
        "Use the held-out training set once again for this.\n"
      ]
    },
    {
      "cell_type": "markdown",
      "metadata": {
        "id": "yEGZ9SV8pPaa"
      },
      "source": [
        "*Write your answer here.*"
      ]
    },
    {
      "cell_type": "code",
      "execution_count": null,
      "metadata": {
        "id": "_z8sAJeUrdtM"
      },
      "outputs": [],
      "source": [
        "nb = NaiveBayesClassifier()\n",
        "vocab_n2 = nb.extract_vocab(data_loader.get_data(0, 899, use_stemming=False, ngrams_n=2))\n",
        "vocab_n3 = nb.extract_vocab(data_loader.get_data(0, 899, use_stemming=False, ngrams_n=3))\n",
        "\n",
        "print(f\"Vocab size unigrams+bigrams: {len(vocab_n2)}\")\n",
        "print(f\"Vocab size unigrams+bigrams+trigrams: {len(vocab_n3)}\")"
      ]
    },
    {
      "cell_type": "markdown",
      "metadata": {
        "id": "CHWKDL3YV6vh"
      },
      "source": [
        "# (3) Support Vector Machines (4pts)"
      ]
    },
    {
      "cell_type": "markdown",
      "metadata": {
        "id": "hJSYhcVaoJGt"
      },
      "source": [
        "Though simple to understand, implement, and debug, one\n",
        "major problem with the Naive Bayes classifier is that its performance\n",
        "deteriorates (becomes skewed) when it is being used with features which\n",
        "are not independent (i.e., are correlated). Another popular classifier\n",
        "that doesn’t scale as well to big data, and is not as simple to debug as\n",
        "Naive Bayes, but that doesn’t assume feature independence is the Support\n",
        "Vector Machine (SVM) classifier.\n",
        "\n",
        "You can find more details about SVMs in Chapter 7 of Bishop: Pattern Recognition and Machine Learning.\n",
        "Other sources for learning SVM:\n",
        "* http://web.mit.edu/zoya/www/SVM.pdf\n",
        "* http://www.cs.columbia.edu/~kathy/cs4701/documents/jason_svm_tutorial.pdf\n",
        "* https://pythonprogramming.net/support-vector-machine-intro-machine-learning-tutorial/\n",
        "\n",
        "\n",
        "\n",
        "\n",
        "\n",
        "\n",
        "\n",
        "Use the scikit-learn implementation of\n",
        "[SVM](http://scikit-learn.org/stable/modules/svm.html) with the default parameters. (You are not expected to perform any hyperparameter tuning, but feel free to do it if you think it gives you good insights for the discussion in question 5.)\n",
        "\n"
      ]
    },
    {
      "cell_type": "markdown",
      "metadata": {
        "id": "0LnzNtQBV8gr"
      },
      "source": [
        "#### (Q3.1): Train SVM and compare to Naive Bayes (2pts)\n",
        "\n",
        "Train an SVM classifier (sklearn.svm.LinearSVC) using the features collected for Naive Bayes. Compare the\n",
        "classification performance of the SVM classifier to that of the Naive\n",
        "Bayes classifier with smoothing.\n",
        "Use cross-validation to evaluate the performance of the classifiers.\n",
        "\n"
      ]
    },
    {
      "cell_type": "code",
      "execution_count": 51,
      "metadata": {
        "id": "JBscui8Mvoz0"
      },
      "outputs": [],
      "source": [
        "def encode_data(data, word2id):\n",
        "    vocab_size = len(word2id)\n",
        "    encoded_data = []\n",
        "\n",
        "    for document in data:\n",
        "        encoded_document = np.zeros(vocab_size)\n",
        "        for word in document['content']:\n",
        "            if word in word2id:\n",
        "                encoded_document[word2id[word]] += 1\n",
        "        encoded_data.append(encoded_document)\n",
        "    return np.array(encoded_data)\n",
        "\n",
        "def extract_labels(data, label2id):\n",
        "    labels = []\n",
        "    for document in data:\n",
        "        labels.append(label2id[document['sentiment']])\n",
        "    return np.array(labels)\n",
        "\n",
        "\n",
        "def svm_cross_validation(data_loader, n_splits=10, total_points=1000, use_stemming=False, ngrams_n=None, verbose=False, POS = False, pos_to_keep = None):\n",
        "    split_size = total_points // n_splits\n",
        "\n",
        "    results = []\n",
        "    for i in range(0, total_points, split_size):\n",
        "        if verbose:\n",
        "            print(f\"Split {i}:{i+split_size}\", end=\" | \")\n",
        "        test_data = data_loader.get_data(i, i+split_size, use_stemming=use_stemming, ngrams_n=ngrams_n, POS = POS, pos_to_keep = pos_to_keep)\n",
        "\n",
        "        train_data = []\n",
        "        if i != 0:\n",
        "            train_data += data_loader.get_data(0, 0+i, use_stemming=use_stemming, ngrams_n=ngrams_n, POS = POS, pos_to_keep = pos_to_keep)\n",
        "        if i+split_size != total_points:\n",
        "            train_data += data_loader.get_data(i+split_size, total_points, use_stemming=use_stemming, ngrams_n=ngrams_n, POS = POS, pos_to_keep = pos_to_keep)\n",
        "\n",
        "        nb = NaiveBayesClassifier()\n",
        "        vocab = nb.extract_vocab(train_data)\n",
        "        id2word = dict(enumerate(vocab))\n",
        "        id2label = dict(enumerate(set(d['sentiment'] for d in train_data)))\n",
        "        word2id = {v: k for k, v in id2word.items()}\n",
        "        label2id = {v: k for k, v in id2label.items()}\n",
        "\n",
        "        X_train, y_train = encode_data(train_data, word2id), extract_labels(train_data, label2id)\n",
        "        X_test, y_test = encode_data(test_data, word2id), extract_labels(test_data, label2id)\n",
        "\n",
        "        #model = LinearSVC(dual='auto')\n",
        "        model = LinearSVC()\n",
        "        model.fit(X_train, y_train)\n",
        "\n",
        "        accuracy = model.score(X_test, y_test)\n",
        "        results.append(accuracy)\n",
        "        if verbose:\n",
        "            print(f\"accuracy: {accuracy}\")\n",
        "\n",
        "    results = np.array(results)\n",
        "    print(f\"\\nAverage accuracy: {np.mean(results)}\")\n",
        "    print(f\"Max accuracy: {np.max(results)}\")\n",
        "    print(f\"Min accuracy: {np.min(results)}\")\n",
        "    print(f\"Variance: {((results - results.mean())**2).mean()}\")\n",
        "\n",
        "    return results\n"
      ]
    },
    {
      "cell_type": "code",
      "execution_count": 37,
      "metadata": {
        "id": "Pe0hhZVXIbfu"
      },
      "outputs": [],
      "source": [
        "# Prep the data\n",
        "nb = NaiveBayesClassifier()\n",
        "\n",
        "train_data, test_data = data_loader.get_data(0, 899), data_loader.get_data(900, 999)\n",
        "vocab = nb.extract_vocab(train_data)\n",
        "id2word = dict(enumerate(vocab))\n",
        "id2label = dict(enumerate(set(d['sentiment'] for d in train_data)))\n",
        "word2id = {v: k for k, v in id2word.items()}\n",
        "label2id = {v: k for k, v in id2label.items()}\n",
        "\n",
        "X_train, y_train = encode_data(train_data, word2id), extract_labels(train_data, label2id)\n",
        "X_test, y_test = encode_data(test_data, word2id), extract_labels(test_data, label2id)"
      ]
    },
    {
      "cell_type": "code",
      "execution_count": 31,
      "metadata": {
        "colab": {
          "base_uri": "https://localhost:8080/"
        },
        "id": "irAWalMeIbfu",
        "outputId": "e32b0dbb-16b5-4d5f-c37f-8704cff77936"
      },
      "outputs": [
        {
          "output_type": "execute_result",
          "data": {
            "text/plain": [
              "0.88"
            ]
          },
          "metadata": {},
          "execution_count": 31
        }
      ],
      "source": [
        "#svm = LinearSVC(dual='auto') #this doesnt run in colab for some reason #TODO\n",
        "svm = LinearSVC()\n",
        "svm.fit(X_train, y_train)\n",
        "\n",
        "svm.score(X_test, y_test)"
      ]
    },
    {
      "cell_type": "code",
      "execution_count": 28,
      "metadata": {
        "colab": {
          "base_uri": "https://localhost:8080/"
        },
        "id": "LQK67E4_Ibfv",
        "outputId": "1648ce68-6336-4068-8e21-2f9ebc7b35ad"
      },
      "outputs": [
        {
          "output_type": "execute_result",
          "data": {
            "text/plain": [
              "0.88"
            ]
          },
          "metadata": {},
          "execution_count": 28
        }
      ],
      "source": [
        "# Compare score with accuracy to confirm\n",
        "matches = (svm.predict(X_test) == y_test).astype(int)\n",
        "matches.sum() / len(matches)"
      ]
    },
    {
      "cell_type": "code",
      "execution_count": 29,
      "metadata": {
        "colab": {
          "base_uri": "https://localhost:8080/"
        },
        "id": "4s6K2i4NIbfv",
        "outputId": "481f4479-7325-41d7-a9fa-4e68cf2d9848"
      },
      "outputs": [
        {
          "output_type": "stream",
          "name": "stdout",
          "text": [
            "Split 0:100 | accuracy: 0.8316831683168316\n",
            "Split 100:200 | "
          ]
        },
        {
          "output_type": "stream",
          "name": "stderr",
          "text": [
            "/usr/local/lib/python3.10/dist-packages/sklearn/svm/_base.py:1244: ConvergenceWarning: Liblinear failed to converge, increase the number of iterations.\n",
            "  warnings.warn(\n"
          ]
        },
        {
          "output_type": "stream",
          "name": "stdout",
          "text": [
            "accuracy: 0.8514851485148515\n",
            "Split 200:300 | "
          ]
        },
        {
          "output_type": "stream",
          "name": "stderr",
          "text": [
            "/usr/local/lib/python3.10/dist-packages/sklearn/svm/_base.py:1244: ConvergenceWarning: Liblinear failed to converge, increase the number of iterations.\n",
            "  warnings.warn(\n"
          ]
        },
        {
          "output_type": "stream",
          "name": "stdout",
          "text": [
            "accuracy: 0.8465346534653465\n",
            "Split 300:400 | "
          ]
        },
        {
          "output_type": "stream",
          "name": "stderr",
          "text": [
            "/usr/local/lib/python3.10/dist-packages/sklearn/svm/_base.py:1244: ConvergenceWarning: Liblinear failed to converge, increase the number of iterations.\n",
            "  warnings.warn(\n"
          ]
        },
        {
          "output_type": "stream",
          "name": "stdout",
          "text": [
            "accuracy: 0.8564356435643564\n",
            "Split 400:500 | "
          ]
        },
        {
          "output_type": "stream",
          "name": "stderr",
          "text": [
            "/usr/local/lib/python3.10/dist-packages/sklearn/svm/_base.py:1244: ConvergenceWarning: Liblinear failed to converge, increase the number of iterations.\n",
            "  warnings.warn(\n"
          ]
        },
        {
          "output_type": "stream",
          "name": "stdout",
          "text": [
            "accuracy: 0.8415841584158416\n",
            "Split 500:600 | accuracy: 0.8762376237623762\n",
            "Split 600:700 | accuracy: 0.8366336633663366\n",
            "Split 700:800 | "
          ]
        },
        {
          "output_type": "stream",
          "name": "stderr",
          "text": [
            "/usr/local/lib/python3.10/dist-packages/sklearn/svm/_base.py:1244: ConvergenceWarning: Liblinear failed to converge, increase the number of iterations.\n",
            "  warnings.warn(\n"
          ]
        },
        {
          "output_type": "stream",
          "name": "stdout",
          "text": [
            "accuracy: 0.806930693069307\n",
            "Split 800:900 | "
          ]
        },
        {
          "output_type": "stream",
          "name": "stderr",
          "text": [
            "/usr/local/lib/python3.10/dist-packages/sklearn/svm/_base.py:1244: ConvergenceWarning: Liblinear failed to converge, increase the number of iterations.\n",
            "  warnings.warn(\n"
          ]
        },
        {
          "output_type": "stream",
          "name": "stdout",
          "text": [
            "accuracy: 0.8168316831683168\n",
            "Split 900:1000 | accuracy: 0.88\n",
            "\n",
            "Average accuracy: 0.8444356435643565\n",
            "Max accuracy: 0.88\n",
            "Min accuracy: 0.806930693069307\n",
            "Variance: 0.00048745181844917174\n"
          ]
        },
        {
          "output_type": "stream",
          "name": "stderr",
          "text": [
            "/usr/local/lib/python3.10/dist-packages/sklearn/svm/_base.py:1244: ConvergenceWarning: Liblinear failed to converge, increase the number of iterations.\n",
            "  warnings.warn(\n"
          ]
        },
        {
          "output_type": "execute_result",
          "data": {
            "text/plain": [
              "array([0.83168317, 0.85148515, 0.84653465, 0.85643564, 0.84158416,\n",
              "       0.87623762, 0.83663366, 0.80693069, 0.81683168, 0.88      ])"
            ]
          },
          "metadata": {},
          "execution_count": 29
        }
      ],
      "source": [
        "svm_cross_validation(data_loader, verbose=True)"
      ]
    },
    {
      "cell_type": "markdown",
      "metadata": {
        "id": "ifXVWcK0V9qY"
      },
      "source": [
        "### POS disambiguation (2pts)\n",
        "\n",
        "Now add in part-of-speech features. You will find the\n",
        "movie review dataset has already been POS-tagged for you ([here](https://catalog.ldc.upenn.edu/docs/LDC99T42/tagguid1.pdf) you find the tagset). Try to\n",
        "replicate the results obtained by Pang et al. (2002).\n",
        "\n"
      ]
    },
    {
      "cell_type": "markdown",
      "metadata": {
        "id": "xA3I82o4oWGu"
      },
      "source": [
        "####(Q3.2) Replace your features with word+POS features, and report performance with the SVM. Use cross-validation to evaluate the classifier and compare the results with (Q3.1). Does part-of-speech information help? Explain why this may be the case. (1pt)\n"
      ]
    },
    {
      "cell_type": "code",
      "execution_count": 38,
      "metadata": {
        "id": "NOvjYe-t2Br6"
      },
      "outputs": [],
      "source": [
        "# YOUR CODE HERE\n",
        "# Prep the data to include POS tags\n",
        "nb = NaiveBayesClassifier()\n",
        "\n",
        "train_data, test_data = data_loader.get_data(0, 899, POS = True), data_loader.get_data(900, 999, POS = True)\n",
        "vocab = nb.extract_vocab(train_data)\n",
        "id2word = dict(enumerate(vocab))\n",
        "id2label = dict(enumerate(set(d['sentiment'] for d in train_data)))\n",
        "word2id = {v: k for k, v in id2word.items()}\n",
        "label2id = {v: k for k, v in id2label.items()}\n",
        "\n",
        "X_train, y_train = encode_data(train_data, word2id), extract_labels(train_data, label2id)\n",
        "X_test, y_test = encode_data(test_data, word2id), extract_labels(test_data, label2id)"
      ]
    },
    {
      "cell_type": "code",
      "source": [
        "svm = LinearSVC()\n",
        "svm.fit(X_train, y_train)\n",
        "\n",
        "svm.score(X_test, y_test)"
      ],
      "metadata": {
        "colab": {
          "base_uri": "https://localhost:8080/"
        },
        "id": "dW_1O7BPZVQB",
        "outputId": "07d5d90f-decd-494f-bcf5-25a105793ffe"
      },
      "execution_count": 39,
      "outputs": [
        {
          "output_type": "execute_result",
          "data": {
            "text/plain": [
              "0.85"
            ]
          },
          "metadata": {},
          "execution_count": 39
        }
      ]
    },
    {
      "cell_type": "code",
      "source": [
        "svm_cross_validation(data_loader, verbose=False, POS = True)"
      ],
      "metadata": {
        "colab": {
          "base_uri": "https://localhost:8080/"
        },
        "id": "CP37Uyn5ZmqX",
        "outputId": "da10f95b-58ec-492b-e3a6-f5c08dc7b626"
      },
      "execution_count": 41,
      "outputs": [
        {
          "output_type": "stream",
          "name": "stderr",
          "text": [
            "/usr/local/lib/python3.10/dist-packages/sklearn/svm/_base.py:1244: ConvergenceWarning: Liblinear failed to converge, increase the number of iterations.\n",
            "  warnings.warn(\n",
            "/usr/local/lib/python3.10/dist-packages/sklearn/svm/_base.py:1244: ConvergenceWarning: Liblinear failed to converge, increase the number of iterations.\n",
            "  warnings.warn(\n",
            "/usr/local/lib/python3.10/dist-packages/sklearn/svm/_base.py:1244: ConvergenceWarning: Liblinear failed to converge, increase the number of iterations.\n",
            "  warnings.warn(\n",
            "/usr/local/lib/python3.10/dist-packages/sklearn/svm/_base.py:1244: ConvergenceWarning: Liblinear failed to converge, increase the number of iterations.\n",
            "  warnings.warn(\n",
            "/usr/local/lib/python3.10/dist-packages/sklearn/svm/_base.py:1244: ConvergenceWarning: Liblinear failed to converge, increase the number of iterations.\n",
            "  warnings.warn(\n",
            "/usr/local/lib/python3.10/dist-packages/sklearn/svm/_base.py:1244: ConvergenceWarning: Liblinear failed to converge, increase the number of iterations.\n",
            "  warnings.warn(\n",
            "/usr/local/lib/python3.10/dist-packages/sklearn/svm/_base.py:1244: ConvergenceWarning: Liblinear failed to converge, increase the number of iterations.\n",
            "  warnings.warn(\n"
          ]
        },
        {
          "output_type": "stream",
          "name": "stdout",
          "text": [
            "\n",
            "Average accuracy: 0.8473811881188119\n",
            "Max accuracy: 0.8811881188118812\n",
            "Min accuracy: 0.8316831683168316\n",
            "Variance: 0.00020250879815704377\n"
          ]
        },
        {
          "output_type": "stream",
          "name": "stderr",
          "text": [
            "/usr/local/lib/python3.10/dist-packages/sklearn/svm/_base.py:1244: ConvergenceWarning: Liblinear failed to converge, increase the number of iterations.\n",
            "  warnings.warn(\n"
          ]
        },
        {
          "output_type": "execute_result",
          "data": {
            "text/plain": [
              "array([0.84158416, 0.84653465, 0.83168317, 0.83663366, 0.84653465,\n",
              "       0.88118812, 0.86138614, 0.83663366, 0.83663366, 0.855     ])"
            ]
          },
          "metadata": {},
          "execution_count": 41
        }
      ]
    },
    {
      "cell_type": "markdown",
      "metadata": {
        "id": "L0dt_oQupUNe"
      },
      "source": [
        "*Write your answer here.*"
      ]
    },
    {
      "cell_type": "markdown",
      "metadata": {
        "id": "Su-3w87eMW0w"
      },
      "source": [
        "#### (Q3.3) Discard all closed-class words from your data (keep only nouns, verbs, adjectives, and adverbs), and report performance. Does this help? Use cross-validation to evaluate the classifier and compare the results with (Q3.2). Are closed-class words detrimental to the classifier? Explain why this may be the case. (1pt)"
      ]
    },
    {
      "cell_type": "code",
      "execution_count": 61,
      "metadata": {
        "id": "CCUPlPozCYUX"
      },
      "outputs": [],
      "source": [
        "# YOUR CODE HERE\n",
        "# this is the list of all POS tags in our document\n",
        "#['JJ', '$', '-RRB-', 'VBN', 'RBS', 'WRB', 'PRP$', 'TO', 'WP$', 'FW', 'NNS', 'VBZ', 'RB', 'IN', 'CC', 'JJR', '.', 'VB', 'RBR', 'MD', 'WDT', 'VBP', 'WP', ':', 'EX', 'VBG', '-LRB-', ',', 'RP', '``', 'UH', 'POS', \"''\", 'NNP'\n",
        "#, 'DT', 'LS', 'PDT', 'NNPS', 'SYM', 'VBD', 'NN', 'JJS', 'CD', '#', 'PRP']\n",
        "\n",
        "#Want to keep nouns (NN, NNS), verbs (VB, VBD VBG VBN VBP VBZ), ajectives (JJR, JJS), adverbs (RB, RBR, RBS)\n",
        "\n",
        "pos_to_keep = ['NN', 'NNS','VB', 'VBD', 'VBG', 'VBN', 'VBP', 'VBZ', 'JJ', 'JJR', 'JJS', 'RB', 'RBR', 'RBS']\n",
        "pos_to_keep_merge = [['NN', 'NNS'], ['VB', 'VBD', 'VBG', 'VBN', 'VBP', 'VBZ'], ['JJ', 'JJR', 'JJS'], ['RB', 'RBR', 'RBS']]\n",
        "\n",
        "nb = NaiveBayesClassifier()\n",
        "\n",
        "train_data, test_data = data_loader.get_data(0, 899, POS = True, pos_to_keep = pos_to_keep), data_loader.get_data(900, 999, POS = True, pos_to_keep = pos_to_keep)\n",
        "vocab = nb.extract_vocab(train_data)\n",
        "id2word = dict(enumerate(vocab))\n",
        "id2label = dict(enumerate(set(d['sentiment'] for d in train_data)))\n",
        "word2id = {v: k for k, v in id2word.items()}\n",
        "label2id = {v: k for k, v in id2label.items()}\n",
        "\n",
        "X_train, y_train = encode_data(train_data, word2id), extract_labels(train_data, label2id)\n",
        "X_test, y_test = encode_data(test_data, word2id), extract_labels(test_data, label2id)\n"
      ]
    },
    {
      "cell_type": "code",
      "source": [
        "svm = LinearSVC()\n",
        "svm.fit(X_train, y_train)\n",
        "\n",
        "svm.score(X_test, y_test)"
      ],
      "metadata": {
        "colab": {
          "base_uri": "https://localhost:8080/"
        },
        "id": "ADa5XbJ-oXhb",
        "outputId": "35e4169a-2afd-47a9-9f70-debdae021560"
      },
      "execution_count": 62,
      "outputs": [
        {
          "output_type": "execute_result",
          "data": {
            "text/plain": [
              "0.875"
            ]
          },
          "metadata": {},
          "execution_count": 62
        }
      ]
    },
    {
      "cell_type": "code",
      "source": [
        "svm_cross_validation(data_loader, verbose=False, POS = True, pos_to_keep = pos_to_keep)"
      ],
      "metadata": {
        "colab": {
          "base_uri": "https://localhost:8080/"
        },
        "id": "2CtEoXvGoalV",
        "outputId": "3116d54c-2ab1-4967-dd96-8595be8e7dc9"
      },
      "execution_count": 57,
      "outputs": [
        {
          "output_type": "stream",
          "name": "stderr",
          "text": [
            "/usr/local/lib/python3.10/dist-packages/sklearn/svm/_base.py:1244: ConvergenceWarning: Liblinear failed to converge, increase the number of iterations.\n",
            "  warnings.warn(\n",
            "/usr/local/lib/python3.10/dist-packages/sklearn/svm/_base.py:1244: ConvergenceWarning: Liblinear failed to converge, increase the number of iterations.\n",
            "  warnings.warn(\n",
            "/usr/local/lib/python3.10/dist-packages/sklearn/svm/_base.py:1244: ConvergenceWarning: Liblinear failed to converge, increase the number of iterations.\n",
            "  warnings.warn(\n",
            "/usr/local/lib/python3.10/dist-packages/sklearn/svm/_base.py:1244: ConvergenceWarning: Liblinear failed to converge, increase the number of iterations.\n",
            "  warnings.warn(\n"
          ]
        },
        {
          "output_type": "stream",
          "name": "stdout",
          "text": [
            "\n",
            "Average accuracy: 0.8488910891089109\n",
            "Max accuracy: 0.88\n",
            "Min accuracy: 0.8217821782178217\n",
            "Variance: 0.00042993784923046836\n"
          ]
        },
        {
          "output_type": "stream",
          "name": "stderr",
          "text": [
            "/usr/local/lib/python3.10/dist-packages/sklearn/svm/_base.py:1244: ConvergenceWarning: Liblinear failed to converge, increase the number of iterations.\n",
            "  warnings.warn(\n"
          ]
        },
        {
          "output_type": "execute_result",
          "data": {
            "text/plain": [
              "array([0.82673267, 0.84653465, 0.86633663, 0.86633663, 0.86138614,\n",
              "       0.83168317, 0.82178218, 0.86633663, 0.82178218, 0.88      ])"
            ]
          },
          "metadata": {},
          "execution_count": 57
        }
      ]
    },
    {
      "cell_type": "code",
      "source": [
        "svm_cross_validation(data_loader, verbose=False, POS = True, pos_to_keep = pos_to_keep_merge)"
      ],
      "metadata": {
        "colab": {
          "base_uri": "https://localhost:8080/"
        },
        "id": "ukeLW78nwFL6",
        "outputId": "e5a0f5ba-8677-4401-fa88-e1639e63d236"
      },
      "execution_count": 65,
      "outputs": [
        {
          "output_type": "stream",
          "name": "stderr",
          "text": [
            "/usr/local/lib/python3.10/dist-packages/sklearn/svm/_base.py:1244: ConvergenceWarning: Liblinear failed to converge, increase the number of iterations.\n",
            "  warnings.warn(\n",
            "/usr/local/lib/python3.10/dist-packages/sklearn/svm/_base.py:1244: ConvergenceWarning: Liblinear failed to converge, increase the number of iterations.\n",
            "  warnings.warn(\n",
            "/usr/local/lib/python3.10/dist-packages/sklearn/svm/_base.py:1244: ConvergenceWarning: Liblinear failed to converge, increase the number of iterations.\n",
            "  warnings.warn(\n",
            "/usr/local/lib/python3.10/dist-packages/sklearn/svm/_base.py:1244: ConvergenceWarning: Liblinear failed to converge, increase the number of iterations.\n",
            "  warnings.warn(\n"
          ]
        },
        {
          "output_type": "stream",
          "name": "stdout",
          "text": [
            "\n",
            "Average accuracy: 0.8518712871287129\n",
            "Max accuracy: 0.89\n",
            "Min accuracy: 0.8267326732673267\n",
            "Variance: 0.0004055179884325073\n"
          ]
        },
        {
          "output_type": "execute_result",
          "data": {
            "text/plain": [
              "array([0.82673267, 0.83168317, 0.87623762, 0.87128713, 0.85643564,\n",
              "       0.84158416, 0.83168317, 0.84653465, 0.84653465, 0.89      ])"
            ]
          },
          "metadata": {},
          "execution_count": 65
        }
      ]
    },
    {
      "cell_type": "markdown",
      "metadata": {
        "id": "YaxCVrs8pWSp"
      },
      "source": [
        "*Write your answer here.*"
      ]
    },
    {
      "cell_type": "markdown",
      "metadata": {
        "id": "nfwqOciAl2No"
      },
      "source": [
        "# (4) Discussion (max. 500 words). (5pts)\n",
        "\n",
        "> Based on your experiments, what are the effective features and techniques in sentiment analysis? What information do different features encode?\n",
        "Why is this important? What are the limitations of these features and techniques?\n",
        "\n"
      ]
    },
    {
      "cell_type": "markdown",
      "metadata": {
        "id": "ZYuse5WLmekZ"
      },
      "source": [
        "*Write your answer here in up to 500 words (-0.25pt for >50 extra words, -0.5 points for >100 extra words, ...)*.\n"
      ]
    },
    {
      "cell_type": "markdown",
      "metadata": {
        "id": "iwaKwfWQhRk_"
      },
      "source": [
        "# Submission\n"
      ]
    },
    {
      "cell_type": "code",
      "execution_count": null,
      "metadata": {
        "id": "aOUeaET5ijk-"
      },
      "outputs": [],
      "source": [
        "# Write your names and student numbers here:\n",
        "# Student 1 #12345\n",
        "# Student 2 #12345"
      ]
    },
    {
      "cell_type": "markdown",
      "metadata": {
        "id": "3A9K-H6Tii3X"
      },
      "source": [
        "**That's it!**\n",
        "\n",
        "- Check if you answered all questions fully and correctly.\n",
        "- Download your completed notebook using `File -> Download .ipynb`\n",
        "- Check if your answers are all included in the file you submit.\n",
        "- Submit your .ipynb file via *Canvas*. One submission per group."
      ]
    },
    {
      "cell_type": "code",
      "execution_count": null,
      "metadata": {
        "id": "YHslatYAKBrF"
      },
      "outputs": [],
      "source": []
    }
  ],
  "metadata": {
    "colab": {
      "provenance": [],
      "include_colab_link": true
    },
    "kernelspec": {
      "display_name": "NLP1",
      "language": "python",
      "name": "nlp1"
    },
    "language_info": {
      "name": "python",
      "version": "3.10.12"
    }
  },
  "nbformat": 4,
  "nbformat_minor": 0
}